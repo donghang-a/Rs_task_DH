{
 "cells": [
  {
   "cell_type": "code",
   "execution_count": null,
   "metadata": {},
   "outputs": [],
   "source": [
    "# 使用xDeepFM模型对Avazu CTR进行预估\n",
    "import pandas as pd\n",
    "import numpy as np\n",
    "from sklearn.metrics import log_loss\n",
    "import matplotlib.pyplot as plt \n",
    "from sklearn.preprocessing import LabelEncoder\n",
    "from sklearn.metrics import mean_squared_error\n",
    "from sklearn.model_selection import train_test_split\n",
    "from deepctr.models import xDeepFM\n",
    "from deepctr.inputs import SparseFeat,get_feature_names\n",
    "\n"
   ]
  },
  {
   "cell_type": "code",
   "execution_count": 2,
   "metadata": {},
   "outputs": [],
   "source": [
    "file_path = './'\n",
    "fp_train_f = file_path + \"avazu_data_10k.csv\" #使用小样本进行训练\n"
   ]
  },
  {
   "cell_type": "code",
   "execution_count": 3,
   "metadata": {},
   "outputs": [
    {
     "name": "stdout",
     "output_type": "stream",
     "text": [
      "data loaded\n"
     ]
    }
   ],
   "source": [
    "##==================== xDeepFM 训练 ====================##\n",
    "data = pd.read_csv(fp_train_f, dtype={'id':str}, index_col=None)\n",
    "print('data loaded')\n"
   ]
  },
  {
   "cell_type": "code",
   "execution_count": 4,
   "metadata": {},
   "outputs": [
    {
     "name": "stdout",
     "output_type": "stream",
     "text": [
      "                       id  click      hour    C1  banner_pos   site_id  \\\n",
      "0  1.0000094181510943e+18      0  14102100  1005           0  1fbe01fe   \n",
      "1  1.0000169349117864e+19      0  14102100  1005           0  1fbe01fe   \n",
      "2   1.000037190421512e+19      0  14102100  1005           0  1fbe01fe   \n",
      "3   1.000064072448084e+19      0  14102100  1005           0  1fbe01fe   \n",
      "4  1.0000679056417042e+19      0  14102100  1005           1  fe8cc448   \n",
      "\n",
      "  site_domain site_category    app_id app_domain  ... device_type  \\\n",
      "0    f3845767      28905ebd  ecad2386   7801e8d9  ...           1   \n",
      "1    f3845767      28905ebd  ecad2386   7801e8d9  ...           1   \n",
      "2    f3845767      28905ebd  ecad2386   7801e8d9  ...           1   \n",
      "3    f3845767      28905ebd  ecad2386   7801e8d9  ...           1   \n",
      "4    9166c161      0569f928  ecad2386   7801e8d9  ...           1   \n",
      "\n",
      "  device_conn_type    C14  C15  C16   C17  C18  C19     C20  C21  \n",
      "0                2  15706  320   50  1722    0   35      -1   79  \n",
      "1                0  15704  320   50  1722    0   35  100084   79  \n",
      "2                0  15704  320   50  1722    0   35  100084   79  \n",
      "3                0  15706  320   50  1722    0   35  100084   79  \n",
      "4                0  18993  320   50  2161    0   35      -1  157  \n",
      "\n",
      "[5 rows x 24 columns]\n"
     ]
    }
   ],
   "source": [
    "print(data.head())"
   ]
  },
  {
   "cell_type": "code",
   "execution_count": null,
   "metadata": {},
   "outputs": [],
   "source": []
  },
  {
   "cell_type": "code",
   "execution_count": null,
   "metadata": {},
   "outputs": [],
   "source": []
  },
  {
   "cell_type": "code",
   "execution_count": 5,
   "metadata": {},
   "outputs": [],
   "source": [
    "#数据加载\n",
    "sparse_features = ['C1', 'banner_pos', 'site_domain', 'site_id','site_category','app_id','app_category', 'device_type', 'device_conn_type','C14', 'C15','C16']\n",
    "target = ['click']"
   ]
  },
  {
   "cell_type": "code",
   "execution_count": 6,
   "metadata": {},
   "outputs": [
    {
     "name": "stdout",
     "output_type": "stream",
     "text": [
      "[SparseFeat(name='C1', vocabulary_size=6, embedding_dim=4, use_hash=False, dtype='int32', embedding_name='C1', group_name='default_group'), SparseFeat(name='banner_pos', vocabulary_size=4, embedding_dim=4, use_hash=False, dtype='int32', embedding_name='banner_pos', group_name='default_group'), SparseFeat(name='site_domain', vocabulary_size=317, embedding_dim=4, use_hash=False, dtype='int32', embedding_name='site_domain', group_name='default_group'), SparseFeat(name='site_id', vocabulary_size=381, embedding_dim=4, use_hash=False, dtype='int32', embedding_name='site_id', group_name='default_group'), SparseFeat(name='site_category', vocabulary_size=14, embedding_dim=4, use_hash=False, dtype='int32', embedding_name='site_category', group_name='default_group'), SparseFeat(name='app_id', vocabulary_size=313, embedding_dim=4, use_hash=False, dtype='int32', embedding_name='app_id', group_name='default_group'), SparseFeat(name='app_category', vocabulary_size=14, embedding_dim=4, use_hash=False, dtype='int32', embedding_name='app_category', group_name='default_group'), SparseFeat(name='device_type', vocabulary_size=4, embedding_dim=4, use_hash=False, dtype='int32', embedding_name='device_type', group_name='default_group'), SparseFeat(name='device_conn_type', vocabulary_size=4, embedding_dim=4, use_hash=False, dtype='int32', embedding_name='device_conn_type', group_name='default_group'), SparseFeat(name='C14', vocabulary_size=271, embedding_dim=4, use_hash=False, dtype='int32', embedding_name='C14', group_name='default_group'), SparseFeat(name='C15', vocabulary_size=4, embedding_dim=4, use_hash=False, dtype='int32', embedding_name='C15', group_name='default_group'), SparseFeat(name='C16', vocabulary_size=5, embedding_dim=4, use_hash=False, dtype='int32', embedding_name='C16', group_name='default_group')]\n",
      "['C1', 'banner_pos', 'site_domain', 'site_id', 'site_category', 'app_id', 'app_category', 'device_type', 'device_conn_type', 'C14', 'C15', 'C16']\n"
     ]
    }
   ],
   "source": [
    "# 对特征标签进行编码\n",
    "for feature in sparse_features:\n",
    "    lbe = LabelEncoder()\n",
    "    data[feature] = lbe.fit_transform(data[feature])\n",
    "# 计算每个特征中的 不同特征值的个数\n",
    "fixlen_feature_columns = [SparseFeat(feature, data[feature].nunique()) for feature in sparse_features]\n",
    "linear_feature_columns = fixlen_feature_columns\n",
    "dnn_feature_columns = fixlen_feature_columns\n",
    "feature_names = get_feature_names(linear_feature_columns + dnn_feature_columns)\n",
    "print(fixlen_feature_columns)\n",
    "print(feature_names)"
   ]
  },
  {
   "cell_type": "code",
   "execution_count": 7,
   "metadata": {},
   "outputs": [],
   "source": [
    "# 将数据集切分成训练集和测试集\n",
    "train, test = train_test_split(data, test_size=0.2)\n",
    "train_model_input = {name:train[name].values for name in feature_names}\n",
    "test_model_input = {name:test[name].values for name in feature_names}"
   ]
  },
  {
   "cell_type": "code",
   "execution_count": 8,
   "metadata": {},
   "outputs": [
    {
     "name": "stdout",
     "output_type": "stream",
     "text": [
      "Train on 6400 samples, validate on 1600 samples\n"
     ]
    },
    {
     "name": "stderr",
     "output_type": "stream",
     "text": [
      "C:\\Users\\34330\\Anaconda3\\lib\\site-packages\\tensorflow_core\\python\\framework\\indexed_slices.py:424: UserWarning: Converting sparse IndexedSlices to a dense Tensor of unknown shape. This may consume a large amount of memory.\n",
      "  \"Converting sparse IndexedSlices to a dense Tensor of unknown shape. \"\n",
      "C:\\Users\\34330\\Anaconda3\\lib\\site-packages\\tensorflow_core\\python\\framework\\indexed_slices.py:424: UserWarning: Converting sparse IndexedSlices to a dense Tensor of unknown shape. This may consume a large amount of memory.\n",
      "  \"Converting sparse IndexedSlices to a dense Tensor of unknown shape. \"\n"
     ]
    },
    {
     "name": "stdout",
     "output_type": "stream",
     "text": [
      "6400/6400 [==============================] - 9s 1ms/sample - loss: 0.5164 - binary_crossentropy: 0.5164 - val_loss: 0.5060 - val_binary_crossentropy: 0.5060\n",
      "test RMSE 0.38574603043971817\n"
     ]
    }
   ],
   "source": [
    "# 使用xDeepFM进行训练\n",
    "model = xDeepFM(linear_feature_columns, dnn_feature_columns, task='binary')\n",
    "# binary_crossentropy就是logloss\n",
    "model.compile(\"adam\", \"binary_crossentropy\", metrics=['binary_crossentropy'], )\n",
    "history = model.fit(train_model_input, train[target].values, batch_size=256, epochs=1, verbose=True, validation_split=0.2, )\n",
    "# 使用xDeepFM进行预测\n",
    "pred_ans = model.predict(test_model_input, batch_size=256)\n",
    "# 输出RMSE或MSE\n",
    "mse = round(mean_squared_error(test[target].values, pred_ans), 4)\n",
    "rmse = mse ** 0.5\n",
    "print(\"test RMSE\", rmse)"
   ]
  },
  {
   "cell_type": "code",
   "execution_count": null,
   "metadata": {},
   "outputs": [],
   "source": []
  },
  {
   "cell_type": "code",
   "execution_count": 9,
   "metadata": {},
   "outputs": [
    {
     "name": "stdout",
     "output_type": "stream",
     "text": [
      "LogLoss 0.4797191536948085\n"
     ]
    }
   ],
   "source": [
    "# 输出LogLoss\n",
    "from sklearn.metrics import log_loss\n",
    "score = log_loss(test[target].values, pred_ans)\n",
    "print(\"LogLoss\", score)\n"
   ]
  },
  {
   "cell_type": "code",
   "execution_count": 10,
   "metadata": {},
   "outputs": [
    {
     "name": "stderr",
     "output_type": "stream",
     "text": [
      "WARNING:root:\n",
      "DeepCTR version 0.7.4 detected. Your version is 0.7.2.\n",
      "Use `pip install -U deepctr` to upgrade.Changelog: https://github.com/shenweichen/DeepCTR/releases/tag/v0.7.4\n"
     ]
    }
   ],
   "source": [
    "tosub=pd.read_csv(\"./test.csv\", dtype={'id':str}, index_col=None)"
   ]
  },
  {
   "cell_type": "code",
   "execution_count": 11,
   "metadata": {},
   "outputs": [
    {
     "name": "stdout",
     "output_type": "stream",
     "text": [
      "[SparseFeat(name='C1', vocabulary_size=7, embedding_dim=4, use_hash=False, dtype='int32', embedding_name='C1', group_name='default_group'), SparseFeat(name='banner_pos', vocabulary_size=6, embedding_dim=4, use_hash=False, dtype='int32', embedding_name='banner_pos', group_name='default_group'), SparseFeat(name='site_domain', vocabulary_size=3366, embedding_dim=4, use_hash=False, dtype='int32', embedding_name='site_domain', group_name='default_group'), SparseFeat(name='site_id', vocabulary_size=2825, embedding_dim=4, use_hash=False, dtype='int32', embedding_name='site_id', group_name='default_group'), SparseFeat(name='site_category', vocabulary_size=22, embedding_dim=4, use_hash=False, dtype='int32', embedding_name='site_category', group_name='default_group'), SparseFeat(name='app_id', vocabulary_size=3952, embedding_dim=4, use_hash=False, dtype='int32', embedding_name='app_id', group_name='default_group'), SparseFeat(name='app_category', vocabulary_size=28, embedding_dim=4, use_hash=False, dtype='int32', embedding_name='app_category', group_name='default_group'), SparseFeat(name='device_type', vocabulary_size=4, embedding_dim=4, use_hash=False, dtype='int32', embedding_name='device_type', group_name='default_group'), SparseFeat(name='device_conn_type', vocabulary_size=4, embedding_dim=4, use_hash=False, dtype='int32', embedding_name='device_conn_type', group_name='default_group'), SparseFeat(name='C14', vocabulary_size=1257, embedding_dim=4, use_hash=False, dtype='int32', embedding_name='C14', group_name='default_group'), SparseFeat(name='C15', vocabulary_size=8, embedding_dim=4, use_hash=False, dtype='int32', embedding_name='C15', group_name='default_group'), SparseFeat(name='C16', vocabulary_size=9, embedding_dim=4, use_hash=False, dtype='int32', embedding_name='C16', group_name='default_group')]\n",
      "['C1', 'banner_pos', 'site_domain', 'site_id', 'site_category', 'app_id', 'app_category', 'device_type', 'device_conn_type', 'C14', 'C15', 'C16']\n"
     ]
    }
   ],
   "source": [
    "# 对特征标签进行编码\n",
    "for feature in sparse_features:\n",
    "    lbe = LabelEncoder()\n",
    "    tosub[feature] = lbe.fit_transform(tosub[feature])\n",
    "# 计算每个特征中的 不同特征值的个数\n",
    "fixlen_feature_columns = [SparseFeat(feature, tosub[feature].nunique()) for feature in sparse_features]\n",
    "linear_feature_columns = fixlen_feature_columns\n",
    "dnn_feature_columns = fixlen_feature_columns\n",
    "feature_names = get_feature_names(linear_feature_columns + dnn_feature_columns)\n",
    "print(fixlen_feature_columns)\n",
    "print(feature_names)"
   ]
  },
  {
   "cell_type": "code",
   "execution_count": null,
   "metadata": {},
   "outputs": [],
   "source": []
  },
  {
   "cell_type": "code",
   "execution_count": 12,
   "metadata": {},
   "outputs": [],
   "source": [
    "tosub_model_input = {name:tosub[name].values for name in feature_names}"
   ]
  },
  {
   "cell_type": "code",
   "execution_count": 13,
   "metadata": {},
   "outputs": [
    {
     "name": "stdout",
     "output_type": "stream",
     "text": [
      "{'C1': array([2, 2, 2, ..., 2, 2, 2], dtype=int64), 'banner_pos': array([0, 0, 0, ..., 0, 0, 0], dtype=int64), 'site_domain': array([3234, 3197, 3197, ..., 1565, 2590, 3197]), 'site_id': array([ 393,  355,  355, ..., 1064, 1491,  264]), 'site_category': array([20,  1,  1, ...,  3,  5, 20]), 'app_id': array([3643, 3643, 3643, ..., 3643, 2260, 3643]), 'app_category': array([0, 0, 0, ..., 0, 3, 0]), 'device_type': array([1, 1, 1, ..., 1, 1, 1], dtype=int64), 'device_conn_type': array([0, 0, 0, ..., 0, 2, 0], dtype=int64), 'C14': array([ 36, 586, 586, ..., 169, 953, 523], dtype=int64), 'C15': array([3, 3, 3, ..., 2, 3, 3], dtype=int64), 'C16': array([2, 2, 2, ..., 4, 2, 2], dtype=int64)}\n"
     ]
    }
   ],
   "source": [
    "print(tosub_model_input)"
   ]
  },
  {
   "cell_type": "code",
   "execution_count": 14,
   "metadata": {},
   "outputs": [
    {
     "name": "stdout",
     "output_type": "stream",
     "text": [
      "{'C1': array([1, 2, 2, ..., 2, 2, 2], dtype=int64), 'banner_pos': array([0, 0, 0, ..., 0, 0, 0], dtype=int64), 'site_domain': array([  5, 244, 143, ..., 301, 283, 301]), 'site_id': array([173, 202, 134, ...,  43, 367,  43]), 'site_category': array([5, 5, 4, ..., 2, 2, 2]), 'app_id': array([293, 311, 293, ..., 293, 293, 293]), 'app_category': array([0, 2, 0, ..., 0, 0, 0]), 'device_type': array([0, 1, 1, ..., 1, 1, 1], dtype=int64), 'device_conn_type': array([0, 0, 0, ..., 0, 0, 0], dtype=int64), 'C14': array([ 87, 241, 103, ...,  63, 139,  65], dtype=int64), 'C15': array([2, 2, 1, ..., 2, 2, 2], dtype=int64), 'C16': array([1, 1, 3, ..., 1, 1, 1], dtype=int64)}\n"
     ]
    }
   ],
   "source": [
    "print(test_model_input)"
   ]
  },
  {
   "cell_type": "code",
   "execution_count": 16,
   "metadata": {},
   "outputs": [],
   "source": [
    "pred_ans = model.predict(test_model_input, batch_size=256)"
   ]
  },
  {
   "cell_type": "code",
   "execution_count": 17,
   "metadata": {},
   "outputs": [
    {
     "name": "stdout",
     "output_type": "stream",
     "text": [
      "[[0.12137926]\n",
      " [0.09203628]\n",
      " [0.15118685]\n",
      " ...\n",
      " [0.10255313]\n",
      " [0.12633428]\n",
      " [0.10228744]]\n"
     ]
    }
   ],
   "source": [
    "print(pred_ans)"
   ]
  },
  {
   "cell_type": "code",
   "execution_count": 20,
   "metadata": {},
   "outputs": [
    {
     "name": "stdout",
     "output_type": "stream",
     "text": [
      "Train on 6400 samples, validate on 1600 samples\n"
     ]
    },
    {
     "name": "stderr",
     "output_type": "stream",
     "text": [
      "C:\\Users\\34330\\Anaconda3\\lib\\site-packages\\tensorflow_core\\python\\framework\\indexed_slices.py:424: UserWarning: Converting sparse IndexedSlices to a dense Tensor of unknown shape. This may consume a large amount of memory.\n",
      "  \"Converting sparse IndexedSlices to a dense Tensor of unknown shape. \"\n",
      "C:\\Users\\34330\\Anaconda3\\lib\\site-packages\\tensorflow_core\\python\\framework\\indexed_slices.py:424: UserWarning: Converting sparse IndexedSlices to a dense Tensor of unknown shape. This may consume a large amount of memory.\n",
      "  \"Converting sparse IndexedSlices to a dense Tensor of unknown shape. \"\n"
     ]
    },
    {
     "name": "stdout",
     "output_type": "stream",
     "text": [
      "6400/6400 [==============================] - 9s 1ms/sample - loss: 0.5153 - binary_crossentropy: 0.5153 - val_loss: 0.5020 - val_binary_crossentropy: 0.5020\n"
     ]
    }
   ],
   "source": [
    "# 使用xDeepFM进行训练\n",
    "model = xDeepFM(linear_feature_columns, dnn_feature_columns, task='binary')\n",
    "# binary_crossentropy就是logloss\n",
    "model.compile(\"adam\", \"binary_crossentropy\", metrics=['binary_crossentropy'], )\n",
    "history = model.fit(train_model_input, train[target].values, batch_size=256, epochs=1, verbose=True, validation_split=0.2, )"
   ]
  },
  {
   "cell_type": "code",
   "execution_count": 21,
   "metadata": {},
   "outputs": [],
   "source": [
    "pred_pro = model.predict(tosub_model_input, batch_size=256)"
   ]
  },
  {
   "cell_type": "code",
   "execution_count": 22,
   "metadata": {},
   "outputs": [
    {
     "data": {
      "text/plain": [
       "array([[0.14516968],\n",
       "       [0.14698768],\n",
       "       [0.14698768],\n",
       "       ...,\n",
       "       [0.13697171],\n",
       "       [0.14693564],\n",
       "       [0.14869508]], dtype=float32)"
      ]
     },
     "execution_count": 22,
     "metadata": {},
     "output_type": "execute_result"
    }
   ],
   "source": [
    "pred_pro"
   ]
  },
  {
   "cell_type": "code",
   "execution_count": 23,
   "metadata": {},
   "outputs": [],
   "source": [
    "y_xDeep=pd.DataFrame(pred_pro,columns=['click'])"
   ]
  },
  {
   "cell_type": "code",
   "execution_count": 25,
   "metadata": {},
   "outputs": [],
   "source": [
    "y_xDeep=y_xDeep.set_index(tosub['id'])"
   ]
  },
  {
   "cell_type": "code",
   "execution_count": 26,
   "metadata": {},
   "outputs": [
    {
     "name": "stdout",
     "output_type": "stream",
     "text": [
      "                         click\n",
      "id                            \n",
      "10000174058809263569  0.145170\n",
      "10000182526920855428  0.146988\n",
      "10000554139829213984  0.146988\n",
      "10001094637809798845  0.142913\n",
      "10001377041558670745  0.148210\n",
      "...                        ...\n",
      "9998166651591969718   0.137005\n",
      "9998249812366450951   0.148672\n",
      "99988023653614546     0.136972\n",
      "9999086574712596585   0.146936\n",
      "99992636456518364     0.148695\n",
      "\n",
      "[4577464 rows x 1 columns]\n"
     ]
    }
   ],
   "source": [
    "print(y_xDeep)"
   ]
  },
  {
   "cell_type": "code",
   "execution_count": 27,
   "metadata": {},
   "outputs": [],
   "source": [
    "y_xDeep.to_csv('L15_action_kaggle_xDeepFM.csv')"
   ]
  },
  {
   "cell_type": "code",
   "execution_count": null,
   "metadata": {},
   "outputs": [],
   "source": []
  }
 ],
 "metadata": {
  "kernelspec": {
   "display_name": "Python 3",
   "language": "python",
   "name": "python3"
  },
  "language_info": {
   "codemirror_mode": {
    "name": "ipython",
    "version": 3
   },
   "file_extension": ".py",
   "mimetype": "text/x-python",
   "name": "python",
   "nbconvert_exporter": "python",
   "pygments_lexer": "ipython3",
   "version": "3.7.4"
  }
 },
 "nbformat": 4,
 "nbformat_minor": 2
}
