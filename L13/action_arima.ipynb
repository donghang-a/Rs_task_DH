{
 "cells": [
  {
   "cell_type": "code",
   "execution_count": 2,
   "metadata": {},
   "outputs": [],
   "source": [
    "# -*- coding: utf-8 -*-\n",
    "\n",
    "import numpy as np\n",
    "import pandas as pd\n",
    "import matplotlib.pyplot as plt\n",
    "from statsmodels.tsa.arima_model import ARIMA\n",
    "import statsmodels.api as sm\n",
    "import warnings\n",
    "from itertools import product\n",
    "from datetime import datetime, timedelta\n",
    "import calendar"
   ]
  },
  {
   "cell_type": "code",
   "execution_count": 17,
   "metadata": {},
   "outputs": [],
   "source": [
    "warnings.filterwarnings('ignore')\n",
    "plt.rcParams['font.sans-serif']=['SimHei'] #用来正常显示中文标签\n",
    "# 数据加载\n",
    "df = pd.read_csv('./shprice.csv',encoding='gbk')\n",
    "df=df.drop(df.columns[2:],axis=1)"
   ]
  },
  {
   "cell_type": "code",
   "execution_count": 18,
   "metadata": {},
   "outputs": [
    {
     "data": {
      "text/html": [
       "<div>\n",
       "<style scoped>\n",
       "    .dataframe tbody tr th:only-of-type {\n",
       "        vertical-align: middle;\n",
       "    }\n",
       "\n",
       "    .dataframe tbody tr th {\n",
       "        vertical-align: top;\n",
       "    }\n",
       "\n",
       "    .dataframe thead th {\n",
       "        text-align: right;\n",
       "    }\n",
       "</style>\n",
       "<table border=\"1\" class=\"dataframe\">\n",
       "  <thead>\n",
       "    <tr style=\"text-align: right;\">\n",
       "      <th></th>\n",
       "      <th>时间(年-月)</th>\n",
       "      <th>供给(元/㎡)</th>\n",
       "    </tr>\n",
       "  </thead>\n",
       "  <tbody>\n",
       "    <tr>\n",
       "      <td>0</td>\n",
       "      <td>2019/3/1</td>\n",
       "      <td>52278</td>\n",
       "    </tr>\n",
       "    <tr>\n",
       "      <td>1</td>\n",
       "      <td>2019/2/1</td>\n",
       "      <td>53234</td>\n",
       "    </tr>\n",
       "    <tr>\n",
       "      <td>2</td>\n",
       "      <td>2019/1/1</td>\n",
       "      <td>53166</td>\n",
       "    </tr>\n",
       "    <tr>\n",
       "      <td>3</td>\n",
       "      <td>2018/12/1</td>\n",
       "      <td>52087</td>\n",
       "    </tr>\n",
       "    <tr>\n",
       "      <td>4</td>\n",
       "      <td>2018/11/1</td>\n",
       "      <td>51620</td>\n",
       "    </tr>\n",
       "    <tr>\n",
       "      <td>...</td>\n",
       "      <td>...</td>\n",
       "      <td>...</td>\n",
       "    </tr>\n",
       "    <tr>\n",
       "      <td>56</td>\n",
       "      <td>2014/7/1</td>\n",
       "      <td>30709</td>\n",
       "    </tr>\n",
       "    <tr>\n",
       "      <td>57</td>\n",
       "      <td>2014/6/1</td>\n",
       "      <td>29898</td>\n",
       "    </tr>\n",
       "    <tr>\n",
       "      <td>58</td>\n",
       "      <td>2014/5/1</td>\n",
       "      <td>30432</td>\n",
       "    </tr>\n",
       "    <tr>\n",
       "      <td>59</td>\n",
       "      <td>2014/4/1</td>\n",
       "      <td>30211</td>\n",
       "    </tr>\n",
       "    <tr>\n",
       "      <td>60</td>\n",
       "      <td>2014/3/1</td>\n",
       "      <td>29405</td>\n",
       "    </tr>\n",
       "  </tbody>\n",
       "</table>\n",
       "<p>61 rows × 2 columns</p>\n",
       "</div>"
      ],
      "text/plain": [
       "      时间(年-月)  供给(元/㎡)\n",
       "0    2019/3/1    52278\n",
       "1    2019/2/1    53234\n",
       "2    2019/1/1    53166\n",
       "3   2018/12/1    52087\n",
       "4   2018/11/1    51620\n",
       "..        ...      ...\n",
       "56   2014/7/1    30709\n",
       "57   2014/6/1    29898\n",
       "58   2014/5/1    30432\n",
       "59   2014/4/1    30211\n",
       "60   2014/3/1    29405\n",
       "\n",
       "[61 rows x 2 columns]"
      ]
     },
     "execution_count": 18,
     "metadata": {},
     "output_type": "execute_result"
    }
   ],
   "source": [
    "df"
   ]
  },
  {
   "cell_type": "code",
   "execution_count": 19,
   "metadata": {},
   "outputs": [
    {
     "name": "stdout",
     "output_type": "stream",
     "text": [
      "            供给(元/㎡)\n",
      "时间(年-月)            \n",
      "2014-03-01    29405\n",
      "2014-04-01    30211\n",
      "2014-05-01    30432\n",
      "2014-06-01    29898\n",
      "2014-07-01    30709\n"
     ]
    }
   ],
   "source": [
    "# 将时间作为df的索引\n",
    "df[\"时间(年-月)\"]= pd.to_datetime(df[\"时间(年-月)\"])\n",
    "df.index = df[\"时间(年-月)\"]\n",
    "# 数据探索\n",
    "df=df.drop(df.columns[0],axis=1)\n",
    "df=df.iloc[::-1]\n",
    "print(df.head())"
   ]
  },
  {
   "cell_type": "code",
   "execution_count": 21,
   "metadata": {},
   "outputs": [
    {
     "name": "stdout",
     "output_type": "stream",
     "text": [
      "最优模型:                             Statespace Model Results                           \n",
      "==============================================================================\n",
      "Dep. Variable:                供给(元/㎡)   No. Observations:                   61\n",
      "Model:               SARIMAX(3, 1, 4)   Log Likelihood                -459.605\n",
      "Date:                Sun, 26 Apr 2020   AIC                            935.210\n",
      "Time:                        23:19:00   BIC                            951.269\n",
      "Sample:                    03-01-2014   HQIC                           941.420\n",
      "                         - 03-01-2019                                         \n",
      "Covariance Type:                  opg                                         \n",
      "==============================================================================\n",
      "                 coef    std err          z      P>|z|      [0.025      0.975]\n",
      "------------------------------------------------------------------------------\n",
      "ar.L1          1.6911      0.221      7.648      0.000       1.258       2.125\n",
      "ar.L2         -1.4696      0.364     -4.034      0.000      -2.184      -0.756\n",
      "ar.L3          0.7234      0.216      3.349      0.001       0.300       1.147\n",
      "ma.L1         -1.6478      0.245     -6.723      0.000      -2.128      -1.167\n",
      "ma.L2          1.4786      0.361      4.100      0.000       0.772       2.185\n",
      "ma.L3         -0.9565      0.286     -3.341      0.001      -1.518      -0.395\n",
      "ma.L4          0.3154      0.153      2.068      0.039       0.016       0.614\n",
      "sigma2      1.232e+06   2.58e+05      4.774      0.000    7.26e+05    1.74e+06\n",
      "===================================================================================\n",
      "Ljung-Box (Q):                       32.54   Jarque-Bera (JB):                21.91\n",
      "Prob(Q):                              0.79   Prob(JB):                         0.00\n",
      "Heteroskedasticity (H):               1.75   Skew:                            -0.86\n",
      "Prob(H) (two-sided):                  0.24   Kurtosis:                         5.57\n",
      "===================================================================================\n",
      "\n",
      "Warnings:\n",
      "[1] Covariance matrix calculated using the outer product of gradients (complex-step).\n"
     ]
    }
   ],
   "source": [
    "\n",
    "ps = range(0, 5)\n",
    "qs = range(0, 5)\n",
    "ds = range(1, 2)\n",
    "parameters = product(ps, ds, qs)\n",
    "parameters_list = list(parameters)\n",
    "# 寻找最优ARMA模型参数，即best_aic最小\n",
    "results = []\n",
    "best_aic = float(\"inf\") # 正无穷\n",
    "for param in parameters_list:\n",
    "    try:\n",
    "        #model = ARIMA(df_month.Price,order=(param[0], param[1], param[2])).fit()\n",
    "        # SARIMAX 包含季节趋势因素的ARIMA模型\n",
    "        model = sm.tsa.statespace.SARIMAX(df[\"供给(元/㎡)\"],\n",
    "                                order=(param[0], param[1], param[2]),\n",
    "                                #seasonal_order=(4, 1, 2, 12),\n",
    "                                enforce_stationarity=False,\n",
    "                                enforce_invertibility=False).fit()\n",
    "\n",
    "    except ValueError:\n",
    "        print('参数错误:', param)\n",
    "        continue\n",
    "    aic = model.aic\n",
    "    if aic < best_aic:\n",
    "        best_model = model\n",
    "        best_aic = aic\n",
    "        best_param = param\n",
    "    results.append([param, model.aic])\n",
    "# 输出最优模型\n",
    "print('最优模型: ', best_model.summary())"
   ]
  },
  {
   "cell_type": "code",
   "execution_count": 22,
   "metadata": {},
   "outputs": [
    {
     "data": {
      "text/html": [
       "<div>\n",
       "<style scoped>\n",
       "    .dataframe tbody tr th:only-of-type {\n",
       "        vertical-align: middle;\n",
       "    }\n",
       "\n",
       "    .dataframe tbody tr th {\n",
       "        vertical-align: top;\n",
       "    }\n",
       "\n",
       "    .dataframe thead th {\n",
       "        text-align: right;\n",
       "    }\n",
       "</style>\n",
       "<table border=\"1\" class=\"dataframe\">\n",
       "  <thead>\n",
       "    <tr style=\"text-align: right;\">\n",
       "      <th></th>\n",
       "      <th>供给(元/㎡)</th>\n",
       "    </tr>\n",
       "    <tr>\n",
       "      <th>时间(年-月)</th>\n",
       "      <th></th>\n",
       "    </tr>\n",
       "  </thead>\n",
       "  <tbody>\n",
       "    <tr>\n",
       "      <td>2014-03-01</td>\n",
       "      <td>29405</td>\n",
       "    </tr>\n",
       "    <tr>\n",
       "      <td>2014-04-01</td>\n",
       "      <td>30211</td>\n",
       "    </tr>\n",
       "    <tr>\n",
       "      <td>2014-05-01</td>\n",
       "      <td>30432</td>\n",
       "    </tr>\n",
       "    <tr>\n",
       "      <td>2014-06-01</td>\n",
       "      <td>29898</td>\n",
       "    </tr>\n",
       "    <tr>\n",
       "      <td>2014-07-01</td>\n",
       "      <td>30709</td>\n",
       "    </tr>\n",
       "    <tr>\n",
       "      <td>...</td>\n",
       "      <td>...</td>\n",
       "    </tr>\n",
       "    <tr>\n",
       "      <td>2018-11-01</td>\n",
       "      <td>51620</td>\n",
       "    </tr>\n",
       "    <tr>\n",
       "      <td>2018-12-01</td>\n",
       "      <td>52087</td>\n",
       "    </tr>\n",
       "    <tr>\n",
       "      <td>2019-01-01</td>\n",
       "      <td>53166</td>\n",
       "    </tr>\n",
       "    <tr>\n",
       "      <td>2019-02-01</td>\n",
       "      <td>53234</td>\n",
       "    </tr>\n",
       "    <tr>\n",
       "      <td>2019-03-01</td>\n",
       "      <td>52278</td>\n",
       "    </tr>\n",
       "  </tbody>\n",
       "</table>\n",
       "<p>61 rows × 1 columns</p>\n",
       "</div>"
      ],
      "text/plain": [
       "            供给(元/㎡)\n",
       "时间(年-月)            \n",
       "2014-03-01    29405\n",
       "2014-04-01    30211\n",
       "2014-05-01    30432\n",
       "2014-06-01    29898\n",
       "2014-07-01    30709\n",
       "...             ...\n",
       "2018-11-01    51620\n",
       "2018-12-01    52087\n",
       "2019-01-01    53166\n",
       "2019-02-01    53234\n",
       "2019-03-01    52278\n",
       "\n",
       "[61 rows x 1 columns]"
      ]
     },
     "execution_count": 22,
     "metadata": {},
     "output_type": "execute_result"
    }
   ],
   "source": [
    "df2=df[[\"供给(元/㎡)\"]]\n",
    "df2"
   ]
  },
  {
   "cell_type": "code",
   "execution_count": 40,
   "metadata": {},
   "outputs": [
    {
     "data": {
      "text/plain": [
       "Timestamp('2019-03-01 00:00:00')"
      ]
     },
     "execution_count": 40,
     "metadata": {},
     "output_type": "execute_result"
    }
   ],
   "source": [
    "future_month = 3\n",
    "last_month = pd.to_datetime(df2.index[len(df2)-1])\n",
    "last_month"
   ]
  },
  {
   "cell_type": "code",
   "execution_count": 41,
   "metadata": {},
   "outputs": [
    {
     "name": "stdout",
     "output_type": "stream",
     "text": [
      "date_list= [Timestamp('2019-04-01 00:00:00'), Timestamp('2019-05-01 00:00:00'), Timestamp('2019-06-01 00:00:00')]\n"
     ]
    }
   ],
   "source": [
    "date_list = []\n",
    "for i in range(future_month):\n",
    "    # 计算下个月有多少天\n",
    "    year = last_month.year\n",
    "    month = last_month.month\n",
    "    if month == 12:\n",
    "        month = 1\n",
    "        year = year+1\n",
    "    else:\n",
    "        month = month + 1\n",
    "    month_days = calendar.monthrange(year, month-1)[1]\n",
    "    #print(next_month_days)\n",
    "    last_month = last_month + timedelta(days=month_days)\n",
    "    date_list.append(last_month)\n",
    "print('date_list=', date_list)"
   ]
  },
  {
   "cell_type": "code",
   "execution_count": 42,
   "metadata": {},
   "outputs": [],
   "source": [
    "# 添加未来要预测的3个月\n",
    "future = pd.DataFrame(index=date_list, columns= df.columns)\n",
    "df2 = pd.concat([df2, future])"
   ]
  },
  {
   "cell_type": "code",
   "execution_count": 43,
   "metadata": {},
   "outputs": [],
   "source": [
    "# get_prediction得到的是区间，使用predicted_mean\n",
    "df2['forecast'] = best_model.get_prediction(start=0, end=len(df2)).predicted_mean"
   ]
  },
  {
   "cell_type": "code",
   "execution_count": 44,
   "metadata": {},
   "outputs": [
    {
     "data": {
      "image/png": "[encoded data removed]",
      "text/plain": [
       "<Figure size 2160x504 with 1 Axes>"
      ]
     },
     "metadata": {
      "needs_background": "light"
     },
     "output_type": "display_data"
    }
   ],
   "source": [
    "\n",
    "plt.figure(figsize=(30,7))\n",
    "df2[\"供给(元/㎡)\"].plot(label='实际房价')\n",
    "df2.forecast.plot(color='r', ls='--', label='预测')\n",
    "plt.legend()\n",
    "plt.title('上海房价（月）')\n",
    "plt.xlabel('时间')\n",
    "plt.ylabel('房价')\n",
    "plt.show()\n"
   ]
  },
  {
   "cell_type": "code",
   "execution_count": 46,
   "metadata": {},
   "outputs": [
    {
     "data": {
      "text/html": [
       "<div>\n",
       "<style scoped>\n",
       "    .dataframe tbody tr th:only-of-type {\n",
       "        vertical-align: middle;\n",
       "    }\n",
       "\n",
       "    .dataframe tbody tr th {\n",
       "        vertical-align: top;\n",
       "    }\n",
       "\n",
       "    .dataframe thead th {\n",
       "        text-align: right;\n",
       "    }\n",
       "</style>\n",
       "<table border=\"1\" class=\"dataframe\">\n",
       "  <thead>\n",
       "    <tr style=\"text-align: right;\">\n",
       "      <th></th>\n",
       "      <th>供给(元/㎡)</th>\n",
       "      <th>forecast</th>\n",
       "    </tr>\n",
       "  </thead>\n",
       "  <tbody>\n",
       "    <tr>\n",
       "      <td>2014-03-01</td>\n",
       "      <td>29405</td>\n",
       "      <td>0.000000</td>\n",
       "    </tr>\n",
       "    <tr>\n",
       "      <td>2014-04-01</td>\n",
       "      <td>30211</td>\n",
       "      <td>54268.429155</td>\n",
       "    </tr>\n",
       "    <tr>\n",
       "      <td>2014-05-01</td>\n",
       "      <td>30432</td>\n",
       "      <td>31465.971270</td>\n",
       "    </tr>\n",
       "    <tr>\n",
       "      <td>2014-06-01</td>\n",
       "      <td>29898</td>\n",
       "      <td>25211.248132</td>\n",
       "    </tr>\n",
       "    <tr>\n",
       "      <td>2014-07-01</td>\n",
       "      <td>30709</td>\n",
       "      <td>31933.068046</td>\n",
       "    </tr>\n",
       "    <tr>\n",
       "      <td>...</td>\n",
       "      <td>...</td>\n",
       "      <td>...</td>\n",
       "    </tr>\n",
       "    <tr>\n",
       "      <td>2019-02-01</td>\n",
       "      <td>53234</td>\n",
       "      <td>52767.642097</td>\n",
       "    </tr>\n",
       "    <tr>\n",
       "      <td>2019-03-01</td>\n",
       "      <td>52278</td>\n",
       "      <td>52653.583115</td>\n",
       "    </tr>\n",
       "    <tr>\n",
       "      <td>2019-04-01</td>\n",
       "      <td>NaN</td>\n",
       "      <td>51899.474426</td>\n",
       "    </tr>\n",
       "    <tr>\n",
       "      <td>2019-05-01</td>\n",
       "      <td>NaN</td>\n",
       "      <td>51939.463011</td>\n",
       "    </tr>\n",
       "    <tr>\n",
       "      <td>2019-06-01</td>\n",
       "      <td>NaN</td>\n",
       "      <td>52378.210028</td>\n",
       "    </tr>\n",
       "  </tbody>\n",
       "</table>\n",
       "<p>64 rows × 2 columns</p>\n",
       "</div>"
      ],
      "text/plain": [
       "           供给(元/㎡)      forecast\n",
       "2014-03-01   29405      0.000000\n",
       "2014-04-01   30211  54268.429155\n",
       "2014-05-01   30432  31465.971270\n",
       "2014-06-01   29898  25211.248132\n",
       "2014-07-01   30709  31933.068046\n",
       "...            ...           ...\n",
       "2019-02-01   53234  52767.642097\n",
       "2019-03-01   52278  52653.583115\n",
       "2019-04-01     NaN  51899.474426\n",
       "2019-05-01     NaN  51939.463011\n",
       "2019-06-01     NaN  52378.210028\n",
       "\n",
       "[64 rows x 2 columns]"
      ]
     },
     "execution_count": 46,
     "metadata": {},
     "output_type": "execute_result"
    }
   ],
   "source": [
    "df2"
   ]
  },
  {
   "cell_type": "code",
   "execution_count": null,
   "metadata": {},
   "outputs": [],
   "source": []
  },
  {
   "cell_type": "code",
   "execution_count": null,
   "metadata": {},
   "outputs": [],
   "source": []
  },
  {
   "cell_type": "code",
   "execution_count": null,
   "metadata": {},
   "outputs": [],
   "source": []
  },
  {
   "cell_type": "code",
   "execution_count": null,
   "metadata": {},
   "outputs": [],
   "source": []
  }
 ],
 "metadata": {
  "kernelspec": {
   "display_name": "Python 3",
   "language": "python",
   "name": "python3"
  },
  "language_info": {
   "codemirror_mode": {
    "name": "ipython",
    "version": 3
   },
   "file_extension": ".py",
   "mimetype": "text/x-python",
   "name": "python",
   "nbconvert_exporter": "python",
   "pygments_lexer": "ipython3",
   "version": "3.7.4"
  }
 },
 "nbformat": 4,
 "nbformat_minor": 2
}
