{
 "cells": [
  {
   "cell_type": "code",
   "execution_count": 2,
   "metadata": {},
   "outputs": [],
   "source": [
    "import jieba\n",
    "import os\n",
    "from utils import files_processing"
   ]
  },
  {
   "cell_type": "code",
   "execution_count": 3,
   "metadata": {},
   "outputs": [],
   "source": [
    "# 源文件所在目录\n",
    "source_folder = './three_kingdoms/source'\n",
    "segment_folder = './three_kingdoms/segment'"
   ]
  },
  {
   "cell_type": "code",
   "execution_count": 4,
   "metadata": {},
   "outputs": [],
   "source": [
    "def segment_lines(file_list,segment_out_dir,stopwords=[]):\n",
    "    for i,file in enumerate(file_list):\n",
    "        segment_out_name=os.path.join(segment_out_dir,'segment_{}.txt'.format(i))\n",
    "        with open(file, 'rb') as f:\n",
    "            document = f.read()\n",
    "            document_cut = jieba.cut(document)\n",
    "            sentence_segment=[]\n",
    "            for word in document_cut:\n",
    "                if word not in stopwords:\n",
    "                    sentence_segment.append(word)\n",
    "            result = ' '.join(sentence_segment)\n",
    "            result = result.encode('utf-8')\n",
    "            with open(segment_out_name, 'wb') as f2:\n",
    "                f2.write(result)\n"
   ]
  },
  {
   "cell_type": "code",
   "execution_count": 5,
   "metadata": {},
   "outputs": [
    {
     "name": "stderr",
     "output_type": "stream",
     "text": [
      "Building prefix dict from the default dictionary ...\n",
      "Loading model from cache C:\\Users\\34330\\AppData\\Local\\Temp\\jieba.cache\n",
      "Loading model cost 1.095 seconds.\n",
      "Prefix dict has been built successfully.\n"
     ]
    }
   ],
   "source": [
    "file_list=files_processing.get_files_list(source_folder, postfix='*.txt')\n",
    "segment_lines(file_list, segment_folder)"
   ]
  },
  {
   "cell_type": "code",
   "execution_count": 6,
   "metadata": {},
   "outputs": [],
   "source": [
    "from gensim.models import word2vec\n",
    "import multiprocessing"
   ]
  },
  {
   "cell_type": "code",
   "execution_count": 7,
   "metadata": {},
   "outputs": [],
   "source": [
    "segment_folder = './three_kingdoms/segment'\n",
    "sentences = word2vec.PathLineSentences(segment_folder)"
   ]
  },
  {
   "cell_type": "code",
   "execution_count": 8,
   "metadata": {},
   "outputs": [
    {
     "name": "stdout",
     "output_type": "stream",
     "text": [
      "[('孔明', 0.993566632270813), ('关公', 0.9921809434890747), ('雅丹', 0.9918563365936279), ('夫人', 0.9913668632507324), ('众官', 0.9913508892059326), ('周瑜', 0.9909214973449707), ('门吏', 0.9899146556854248), ('跃起', 0.9897733926773071), ('竺', 0.9897005558013916), ('陈宫', 0.9896773099899292)]\n"
     ]
    }
   ],
   "source": [
    "# 设置模型参数，进行训练\n",
    "model = word2vec.Word2Vec(sentences, size=100, window=3, min_count=1)\n",
    "\n",
    "print(model.wv.most_similar(['曹操']))"
   ]
  },
  {
   "cell_type": "code",
   "execution_count": 9,
   "metadata": {},
   "outputs": [
    {
     "name": "stdout",
     "output_type": "stream",
     "text": [
      "0.9935665\n"
     ]
    }
   ],
   "source": [
    "print(model.wv.similarity('曹操', '孔明'))"
   ]
  },
  {
   "cell_type": "code",
   "execution_count": 10,
   "metadata": {},
   "outputs": [
    {
     "name": "stdout",
     "output_type": "stream",
     "text": [
      "0.98935896\n"
     ]
    }
   ],
   "source": [
    "print(model.wv.similarity('曹操', '孙权'))"
   ]
  },
  {
   "cell_type": "code",
   "execution_count": 11,
   "metadata": {},
   "outputs": [
    {
     "name": "stdout",
     "output_type": "stream",
     "text": [
      "0.98621964\n"
     ]
    }
   ],
   "source": [
    "print(model.wv.similarity('曹操', '刘备'))"
   ]
  },
  {
   "cell_type": "code",
   "execution_count": 12,
   "metadata": {},
   "outputs": [
    {
     "name": "stdout",
     "output_type": "stream",
     "text": [
      "[('今', 0.9955471754074097), ('仰天长叹', 0.9933222532272339), ('某', 0.9921995997428894), ('臣', 0.9917622804641724), ('此', 0.9915378093719482), ('此人', 0.9914424419403076), ('商议', 0.9912904500961304), ('化', 0.9909756183624268), ('大叫', 0.9905872344970703), ('主公', 0.9904094338417053)]\n"
     ]
    }
   ],
   "source": [
    "print(model.wv.most_similar(positive=['曹操', '刘备'], negative=['张飞']))"
   ]
  },
  {
   "cell_type": "code",
   "execution_count": 13,
   "metadata": {},
   "outputs": [
    {
     "name": "stdout",
     "output_type": "stream",
     "text": [
      "[('孔明谓', 0.9890917539596558), ('报', 0.9813425540924072), ('孙权', 0.9805968403816223), ('孔明问', 0.9787164926528931), ('先主', 0.9779708981513977), ('谭', 0.9776736497879028), ('众将', 0.977605402469635), ('具言前', 0.9773654937744141), ('霸', 0.9762041568756104), ('递', 0.9753232598304749)]\n"
     ]
    }
   ],
   "source": [
    "model2 = word2vec.Word2Vec(sentences, size=128, window=5, min_count=5, workers=multiprocessing.cpu_count())\n",
    "print(model2.wv.most_similar(['曹操']))"
   ]
  },
  {
   "cell_type": "code",
   "execution_count": 14,
   "metadata": {},
   "outputs": [
    {
     "name": "stdout",
     "output_type": "stream",
     "text": [
      "0.950454\n"
     ]
    }
   ],
   "source": [
    "print(model2.wv.similarity('曹操', '孔明'))"
   ]
  },
  {
   "cell_type": "code",
   "execution_count": 15,
   "metadata": {},
   "outputs": [
    {
     "name": "stdout",
     "output_type": "stream",
     "text": [
      "0.9805968\n"
     ]
    }
   ],
   "source": [
    "print(model2.wv.similarity('曹操', '孙权'))"
   ]
  },
  {
   "cell_type": "code",
   "execution_count": 16,
   "metadata": {},
   "outputs": [
    {
     "name": "stdout",
     "output_type": "stream",
     "text": [
      "[('丞相', 0.9903368353843689), ('何出', 0.9868050813674927), ('何人', 0.9864905476570129), ('何故', 0.983514666557312), ('臣', 0.983386754989624), ('吾', 0.9828264117240906), ('何以', 0.9819681644439697), ('问', 0.9816651344299316), ('叹', 0.9798398017883301), ('此', 0.9792361259460449)]\n"
     ]
    }
   ],
   "source": [
    "print(model2.wv.most_similar(positive=['曹操', '刘备'], negative=['张飞']))"
   ]
  },
  {
   "cell_type": "code",
   "execution_count": null,
   "metadata": {},
   "outputs": [],
   "source": []
  },
  {
   "cell_type": "code",
   "execution_count": null,
   "metadata": {},
   "outputs": [],
   "source": []
  }
 ],
 "metadata": {
  "kernelspec": {
   "display_name": "Python 3",
   "language": "python",
   "name": "python3"
  },
  "language_info": {
   "codemirror_mode": {
    "name": "ipython",
    "version": 3
   },
   "file_extension": ".py",
   "mimetype": "text/x-python",
   "name": "python",
   "nbconvert_exporter": "python",
   "pygments_lexer": "ipython3",
   "version": "3.7.4"
  }
 },
 "nbformat": 4,
 "nbformat_minor": 2
}
